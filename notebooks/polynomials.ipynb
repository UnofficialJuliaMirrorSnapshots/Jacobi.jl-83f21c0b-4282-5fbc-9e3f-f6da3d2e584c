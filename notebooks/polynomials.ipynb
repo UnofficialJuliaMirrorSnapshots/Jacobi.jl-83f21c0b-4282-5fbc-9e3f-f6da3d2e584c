{
 "cells": [
  {
   "cell_type": "markdown",
   "metadata": {},
   "source": [
    "# Jacobi package examples"
   ]
  },
  {
   "cell_type": "markdown",
   "metadata": {},
   "source": [
    "This package calculates a few orthogonal polynomials such as Jacobi polynomials $P_n^{\\alpha,\\beta}(x)$, Chebyshev polynomials of the first and second kinds, $T_n(x)$ and $U_n(x)$ and Legendre Polynomials $P_n(x) = P_n^{0,0}(x)$.\n",
    "\n",
    "The polynomials can be calculated pointwise or a `Poly` structure can be obtained, which is basically made up of the polynomial coefficients.\n",
    "\n",
    "The respective derivatives can also be calculated."
   ]
  },
  {
   "cell_type": "markdown",
   "metadata": {},
   "source": [
    "## Pointwise calculation of polynomials"
   ]
  },
  {
   "cell_type": "code",
   "execution_count": 2,
   "metadata": {},
   "outputs": [],
   "source": [
    "using Jacobi"
   ]
  },
  {
   "cell_type": "markdown",
   "metadata": {},
   "source": [
    "To calculate the Jacobi polynomial $P_5^{0.2, 0.1}(0.3)$:"
   ]
  },
  {
   "cell_type": "code",
   "execution_count": 3,
   "metadata": {},
   "outputs": [
    {
     "data": {
      "text/plain": [
       "0.3780304524166406"
      ]
     },
     "execution_count": 3,
     "metadata": {},
     "output_type": "execute_result"
    }
   ],
   "source": [
    "x = 0.3\n",
    "a = 0.2\n",
    "b = 0.1\n",
    "m = 5\n",
    "jacobi(x, m, a, b)"
   ]
  },
  {
   "cell_type": "markdown",
   "metadata": {},
   "source": [
    "The derivative $\\left.\\frac{dP_5^{0.2, 0.1}(x)}{dx}\\right|_{x=0.3}$:"
   ]
  },
  {
   "cell_type": "code",
   "execution_count": 4,
   "metadata": {},
   "outputs": [
    {
     "data": {
      "text/plain": [
       "-0.4343764194492186"
      ]
     },
     "execution_count": 4,
     "metadata": {},
     "output_type": "execute_result"
    }
   ],
   "source": [
    "djacobi(x, m, a, b)"
   ]
  },
  {
   "cell_type": "markdown",
   "metadata": {},
   "source": [
    "The Legendre, Chebyshev (first and second kind) are calculated as follows:"
   ]
  },
  {
   "cell_type": "code",
   "execution_count": 5,
   "metadata": {},
   "outputs": [
    {
     "data": {
      "text/plain": [
       "3-element Array{Float64,1}:\n",
       " 0.34538625        \n",
       " 0.9988800000000001\n",
       " 1.01376           "
      ]
     },
     "execution_count": 5,
     "metadata": {},
     "output_type": "execute_result"
    }
   ],
   "source": [
    "y1 = legendre(x, m) # Legendre polynomial of degree m\n",
    "y2 = chebyshev(x, m) # Chebyshev polynomial of first kind of degree m\n",
    "y3 = chebyshev2(x, m) # Chebyshev polynomial of second kind of degree m\n",
    "[y1, y2, y3]"
   ]
  },
  {
   "cell_type": "markdown",
   "metadata": {},
   "source": [
    "Finally, the respective derivatives:"
   ]
  },
  {
   "cell_type": "code",
   "execution_count": 6,
   "metadata": {},
   "outputs": [
    {
     "data": {
      "text/plain": [
       "3-element Array{Float64,1}:\n",
       " -0.16856249999999995\n",
       "  0.24800000000000044\n",
       " -1.3439999999999992 "
      ]
     },
     "execution_count": 6,
     "metadata": {},
     "output_type": "execute_result"
    }
   ],
   "source": [
    "y1 = dlegendre(x, m) # Derivative of Legendre polynomial of degree m\n",
    "y2 = dchebyshev(x, m) # Derivative of Chebyshev polynomial of first kind of degree m\n",
    "y3 = dchebyshev2(x, m) # Derivative ofChebyshev polynomial of second kind of degree m\n",
    "[y1, y2, y3]"
   ]
  },
  {
   "cell_type": "markdown",
   "metadata": {},
   "source": [
    "## Polynomial coefficients"
   ]
  },
  {
   "cell_type": "markdown",
   "metadata": {},
   "source": [
    "Sometimes it is useful to calculate the coefficients of the polynomials. The functions with prefix `poly_` return a Poly object available in the [package Polynomials](https://github.com/Keno/Polynomials.jl).\n",
    "\n",
    "The naming follows the pointwise calculation of polynomials already described above."
   ]
  },
  {
   "cell_type": "code",
   "execution_count": 7,
   "metadata": {},
   "outputs": [
    {
     "data": {
      "text/html": [
       "5&#8729;x &#45; 20&#8729;x^3 &#43; 16&#8729;x^5"
      ],
      "text/latex": [
       "$5\\cdot x - 20\\cdot x^{3} + 16\\cdot x^{5}$"
      ],
      "text/plain": [
       "Poly(5*x - 20*x^3 + 16*x^5)"
      ]
     },
     "execution_count": 7,
     "metadata": {},
     "output_type": "execute_result"
    }
   ],
   "source": [
    "using Polynomials\n",
    "\n",
    "T5 = poly_chebyshev(5, Int, :x)"
   ]
  },
  {
   "cell_type": "code",
   "execution_count": 8,
   "metadata": {},
   "outputs": [
    {
     "data": {
      "text/html": [
       "1.0 &#45; 32.0&#8729;y^2 &#43; 160.0&#8729;y^4 &#45; 256.0&#8729;y^6 &#43; 128.0&#8729;y^8"
      ],
      "text/latex": [
       "$1.0 - 32.0\\cdot y^{2} + 160.0\\cdot y^{4} - 256.0\\cdot y^{6} + 128.0\\cdot y^{8}$"
      ],
      "text/plain": [
       "Poly(1.0 - 32.0*y^2 + 160.0*y^4 - 256.0*y^6 + 128.0*y^8)"
      ]
     },
     "execution_count": 8,
     "metadata": {},
     "output_type": "execute_result"
    }
   ],
   "source": [
    "T8 = poly_chebyshev(8, Float64, :y)"
   ]
  },
  {
   "cell_type": "code",
   "execution_count": 9,
   "metadata": {},
   "outputs": [
    {
     "data": {
      "text/html": [
       "1 &#45; 32&#8729;x^2 &#43; 160&#8729;x^4 &#45; 256&#8729;x^6 &#43; 128&#8729;x^8"
      ],
      "text/latex": [
       "$1 - 32\\cdot x^{2} + 160\\cdot x^{4} - 256\\cdot x^{6} + 128\\cdot x^{8}$"
      ],
      "text/plain": [
       "Poly(1 - 32*x^2 + 160*x^4 - 256*x^6 + 128*x^8)"
      ]
     },
     "execution_count": 9,
     "metadata": {},
     "output_type": "execute_result"
    }
   ],
   "source": [
    "T4 = poly_chebyshev(8)"
   ]
  },
  {
   "cell_type": "code",
   "execution_count": 10,
   "metadata": {},
   "outputs": [
    {
     "data": {
      "text/html": [
       "&#45;16&#8729;x &#43; 32&#8729;x^3"
      ],
      "text/latex": [
       "$-16\\cdot x + 32\\cdot x^{3}$"
      ],
      "text/plain": [
       "Poly(-16*x + 32*x^3)"
      ]
     },
     "execution_count": 10,
     "metadata": {},
     "output_type": "execute_result"
    }
   ],
   "source": [
    "dT4dx = poly_dchebyshev(4)"
   ]
  },
  {
   "cell_type": "code",
   "execution_count": 11,
   "metadata": {},
   "outputs": [
    {
     "data": {
      "text/html": [
       "6&#8729;x &#45; 32&#8729;x^3 &#43; 32&#8729;x^5"
      ],
      "text/latex": [
       "$6\\cdot x - 32\\cdot x^{3} + 32\\cdot x^{5}$"
      ],
      "text/plain": [
       "Poly(6*x - 32*x^3 + 32*x^5)"
      ]
     },
     "execution_count": 11,
     "metadata": {},
     "output_type": "execute_result"
    }
   ],
   "source": [
    "U5 = poly_chebyshev2(5)"
   ]
  },
  {
   "cell_type": "code",
   "execution_count": 12,
   "metadata": {},
   "outputs": [
    {
     "data": {
      "text/html": [
       "6 &#45; 96&#8729;x^2 &#43; 160&#8729;x^4"
      ],
      "text/latex": [
       "$6 - 96\\cdot x^{2} + 160\\cdot x^{4}$"
      ],
      "text/plain": [
       "Poly(6 - 96*x^2 + 160*x^4)"
      ]
     },
     "execution_count": 12,
     "metadata": {},
     "output_type": "execute_result"
    }
   ],
   "source": [
    "dU5dx = poly_dchebyshev2(5)"
   ]
  },
  {
   "cell_type": "code",
   "execution_count": 13,
   "metadata": {},
   "outputs": [
    {
     "data": {
      "text/html": [
       "&#45;0.3125 &#43; 6.5625&#8729;x^2 &#45; 19.6875&#8729;x^4 &#43; 14.4375&#8729;x^6"
      ],
      "text/latex": [
       "$-0.3125 + 6.5625\\cdot x^{2} - 19.6875\\cdot x^{4} + 14.4375\\cdot x^{6}$"
      ],
      "text/plain": [
       "Poly(-0.3125 + 6.5625*x^2 - 19.6875*x^4 + 14.4375*x^6)"
      ]
     },
     "execution_count": 13,
     "metadata": {},
     "output_type": "execute_result"
    }
   ],
   "source": [
    "P6 = poly_legendre(6) # Legendre Polynomial"
   ]
  },
  {
   "cell_type": "code",
   "execution_count": 14,
   "metadata": {},
   "outputs": [
    {
     "data": {
      "text/html": [
       "13.125&#8729;x &#45; 78.75&#8729;x^3 &#43; 86.625&#8729;x^5"
      ],
      "text/latex": [
       "$13.125\\cdot x - 78.75\\cdot x^{3} + 86.625\\cdot x^{5}$"
      ],
      "text/plain": [
       "Poly(13.125*x - 78.75*x^3 + 86.625*x^5)"
      ]
     },
     "execution_count": 14,
     "metadata": {},
     "output_type": "execute_result"
    }
   ],
   "source": [
    "dP6 = polyder(P6)# Derivative using Polynomials Package\n",
    "dp6b = poly_dlegendre(6)  # Syntatic sugar calling the above line.\n"
   ]
  },
  {
   "cell_type": "code",
   "execution_count": 15,
   "metadata": {},
   "outputs": [
    {
     "data": {
      "text/html": [
       "0.0"
      ],
      "text/latex": [
       "$0.0$"
      ],
      "text/plain": [
       "Poly(0.0)"
      ]
     },
     "execution_count": 15,
     "metadata": {},
     "output_type": "execute_result"
    }
   ],
   "source": [
    "err = dP6 - dp6b  # Both procedures above should be the same!"
   ]
  },
  {
   "cell_type": "code",
   "execution_count": 16,
   "metadata": {},
   "outputs": [
    {
     "data": {
      "text/html": [
       "&#45;0.024746232255859372 &#45; 2.4416546568652344&#8729;x &#43; 0.5967953141894532&#8729;x^2 &#43; 22.727281485986328&#8729;x^3 &#45; 1.9930645195800785&#8729;x^4 &#45; 51.4035174487207&#8729;x^5 &#43; 1.5947440682714844&#8729;x^6 &#43; 32.57834310897459&#8729;x^7"
      ],
      "text/latex": [
       "$-0.024746232255859372 - 2.4416546568652344\\cdot x + 0.5967953141894532\\cdot x^{2} + 22.727281485986328\\cdot x^{3} - 1.9930645195800785\\cdot x^{4} - 51.4035174487207\\cdot x^{5} + 1.5947440682714844\\cdot x^{6} + 32.57834310897459\\cdot x^{7}$"
      ],
      "text/plain": [
       "Poly(-0.024746232255859372 - 2.4416546568652344*x + 0.5967953141894532*x^2 + 22.727281485986328*x^3 - 1.9930645195800785*x^4 - 51.4035174487207*x^5 + 1.5947440682714844*x^6 + 32.57834310897459*x^7)"
      ]
     },
     "execution_count": 16,
     "metadata": {},
     "output_type": "execute_result"
    }
   ],
   "source": [
    "P7ab = poly_jacobi(7, a, b) # Jacobi polynomials"
   ]
  },
  {
   "cell_type": "code",
   "execution_count": 17,
   "metadata": {},
   "outputs": [
    {
     "data": {
      "text/html": [
       "&#45;2.4416546568652344 &#43; 1.1935906283789064&#8729;x &#43; 68.18184445795899&#8729;x^2 &#45; 7.972258078320314&#8729;x^3 &#45; 257.0175872436035&#8729;x^4 &#43; 9.568464409628906&#8729;x^5 &#43; 228.04840176282215&#8729;x^6"
      ],
      "text/latex": [
       "$-2.4416546568652344 + 1.1935906283789064\\cdot x + 68.18184445795899\\cdot x^{2} - 7.972258078320314\\cdot x^{3} - 257.0175872436035\\cdot x^{4} + 9.568464409628906\\cdot x^{5} + 228.04840176282215\\cdot x^{6}$"
      ],
      "text/plain": [
       "Poly(-2.4416546568652344 + 1.1935906283789064*x + 68.18184445795899*x^2 - 7.972258078320314*x^3 - 257.0175872436035*x^4 + 9.568464409628906*x^5 + 228.04840176282215*x^6)"
      ]
     },
     "execution_count": 17,
     "metadata": {},
     "output_type": "execute_result"
    }
   ],
   "source": [
    "dP7abdx = poly_djacobi(7, a, b)"
   ]
  },
  {
   "cell_type": "markdown",
   "metadata": {},
   "source": [
    "## Calculating the polynomials at several points\n",
    "\n",
    "Often, it is necessary to calculate polynomials at several points. As syntatic sugar a few functions are available to make that easy:"
   ]
  },
  {
   "cell_type": "code",
   "execution_count": 19,
   "metadata": {},
   "outputs": [],
   "source": [
    "using PyPlot # Seeing is believing ..."
   ]
  },
  {
   "cell_type": "code",
   "execution_count": 20,
   "metadata": {},
   "outputs": [
    {
     "data": {
      "text/plain": [
       "-1.0:0.01:1.0"
      ]
     },
     "execution_count": 20,
     "metadata": {},
     "output_type": "execute_result"
    }
   ],
   "source": [
    "x = -1.0:0.01:1.0 "
   ]
  },
  {
   "cell_type": "code",
   "execution_count": 22,
   "metadata": {},
   "outputs": [
    {
     "data": {
      "image/png": "[encoded data removed]",
      "text/plain": [
       "Figure(PyObject <Figure size 640x480 with 1 Axes>)"
      ]
     },
     "metadata": {},
     "output_type": "display_data"
    }
   ],
   "source": [
    "y1 = chebyshev.(x, 8);\n",
    "plot(x, y1);"
   ]
  },
  {
   "cell_type": "markdown",
   "metadata": {},
   "source": [
    "The same thing is implemented for Jacobi and Legendre polynomials and their derivative:"
   ]
  },
  {
   "cell_type": "code",
   "execution_count": 23,
   "metadata": {},
   "outputs": [
    {
     "data": {
      "image/png": "[encoded data removed]",
      "text/plain": [
       "Figure(PyObject <Figure size 640x480 with 1 Axes>)"
      ]
     },
     "metadata": {},
     "output_type": "display_data"
    },
    {
     "data": {
      "text/plain": [
       "2-element Array{PyCall.PyObject,1}:\n",
       " PyObject <matplotlib.lines.Line2D object at 0x7f873013a320>\n",
       " PyObject <matplotlib.lines.Line2D object at 0x7f873013a518>"
      ]
     },
     "execution_count": 23,
     "metadata": {},
     "output_type": "execute_result"
    }
   ],
   "source": [
    "y3 = jacobi.(x, 4, -0.5, 0.5)\n",
    "y4 = djacobi.(x, 4, -0.5, 0.5)\n",
    "plot(x, y3, \"b-\", x, y4, \"r--\")"
   ]
  },
  {
   "cell_type": "markdown",
   "metadata": {},
   "source": [
    "## Zeros of polynomials\n",
    "\n",
    "oThe functions starting with suffix `_zero` calculate the zeros of the polynomials."
   ]
  },
  {
   "cell_type": "code",
   "execution_count": 24,
   "metadata": {},
   "outputs": [
    {
     "data": {
      "image/png": "[encoded data removed]",
      "text/plain": [
       "Figure(PyObject <Figure size 640x480 with 1 Axes>)"
      ]
     },
     "metadata": {},
     "output_type": "display_data"
    }
   ],
   "source": [
    "x = -1.0:0.01:1.0\n",
    "y = chebyshev.(x, 6);\n",
    "z = chebyshev_zeros(6)\n",
    "plot(x, y)\n",
    "axhline(y=0.0, color=\"black\")\n",
    "[axvline(x=zz, color=\"red\") for zz in z];\n"
   ]
  },
  {
   "cell_type": "markdown",
   "metadata": {},
   "source": [
    "## Types other than `Float64`\n",
    "\n",
    "Most times, calculations will be carried out using `Float64` because that is the most useful datatype. Most functions can be used with other data types, including `Float32`, `BigFloat` and, except when calculating zeros of polynomials, `Rational{T}`."
   ]
  },
  {
   "cell_type": "code",
   "execution_count": 26,
   "metadata": {},
   "outputs": [
    {
     "data": {
      "text/plain": [
       "-0.11098426440730691"
      ]
     },
     "execution_count": 26,
     "metadata": {},
     "output_type": "execute_result"
    }
   ],
   "source": [
    "jacobi(Float32(0.5), 8, 0.5, 1.0)\n"
   ]
  },
  {
   "cell_type": "code",
   "execution_count": 27,
   "metadata": {},
   "outputs": [
    {
     "data": {
      "text/plain": [
       "214832820407//506623120463"
      ]
     },
     "execution_count": 27,
     "metadata": {},
     "output_type": "execute_result"
    }
   ],
   "source": [
    "chebyshev(23//47, 7)"
   ]
  },
  {
   "cell_type": "code",
   "execution_count": 28,
   "metadata": {},
   "outputs": [
    {
     "data": {
      "text/plain": [
       "4.770638984160155424568808763332988903749347442526164591900368406181365041596503"
      ]
     },
     "execution_count": 28,
     "metadata": {},
     "output_type": "execute_result"
    }
   ],
   "source": [
    "djacobi(BigFloat(0.6), 10, 0.5, -0.5)"
   ]
  },
  {
   "cell_type": "code",
   "execution_count": 29,
   "metadata": {},
   "outputs": [
    {
     "data": {
      "text/plain": [
       "7-element Array{BigFloat,1}:\n",
       " -1.0                                                                              \n",
       " -0.8717401485096066153374457612206634381037806696769833549194152855738989940929645\n",
       " -0.5917001814331423021445107313979531899457009895173324967422595914701481800491344\n",
       " -0.2092992179024788687686572603453512552955454050866810988908466923221309236462841\n",
       "  0.2092992179024788687686572603453512552955454050866810988908466923221309236462841\n",
       "  0.5917001814331423021445107313979531899457009895173324967422595914701481800491344\n",
       "  0.8717401485096066153374457612206634381037806696769833549194152855738989940929645"
      ]
     },
     "execution_count": 29,
     "metadata": {},
     "output_type": "execute_result"
    }
   ],
   "source": [
    "jacobi_zeros(7, 1, -1, BigFloat)"
   ]
  },
  {
   "cell_type": "code",
   "execution_count": null,
   "metadata": {
    "collapsed": true
   },
   "outputs": [],
   "source": []
  }
 ],
 "metadata": {
  "@webio": {
   "lastCommId": "9338fee4e1d4437184ce15dc411d3a19",
   "lastKernelId": "3da1e387-1397-4742-8230-c25d0e1aef8b"
  },
  "kernelspec": {
   "display_name": "Julia 1.1.0",
   "language": "julia",
   "name": "julia-1.1"
  },
  "language_info": {
   "file_extension": ".jl",
   "mimetype": "application/julia",
   "name": "julia",
   "version": "1.1.0"
  }
 },
 "nbformat": 4,
 "nbformat_minor": 1
}
